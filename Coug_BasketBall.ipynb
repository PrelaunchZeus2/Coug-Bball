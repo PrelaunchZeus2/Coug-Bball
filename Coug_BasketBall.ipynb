{
 "cells": [
  {
   "cell_type": "markdown",
   "metadata": {
    "vscode": {
     "languageId": "plaintext"
    }
   },
   "source": [
    "# Cougar Basketball Visualization Project\n",
    "## By John Salmon\n",
    "\n",
    "### The information for this project was acquired from sports reference. The data set and more information about it can be found [here](https://www.sports-reference.com/cbb/schools/washington-state/men/2024.html).\n",
    "\n",
    "The goal of this project is to create interesting and insightful visualization about the WSU Men's basketball team's 2023-2024 season."
   ]
  },
  {
   "cell_type": "code",
   "execution_count": null,
   "metadata": {},
   "outputs": [],
   "source": [
    "#Get Data\n",
    "import pandas as pd\n",
    "import numpy as np\n",
    "\n",
    "gamelog = pd.read_csv('CougarBBallStats/gamelog.csv')\n",
    "pergameplayerstats = pd.read_csv('CougarBBallStats/PergamePlayerStats.csv')\n",
    "pergamestats = pd.read_csv('CougarBBallStats/pergamestats.csv')\n",
    "roster = pd.read_csv('CougarBBallStats/PlayerRoster.csv')\n",
    "totalteamstats = pd.read_csv('CougarBBallStats/TotalTeamStats.csv')\n"
   ]
  },
  {
   "cell_type": "code",
   "execution_count": null,
   "metadata": {},
   "outputs": [],
   "source": [
    "import matplotlib.pyplot as plt\n",
    "import seaborn as sns\n",
    "\n"
   ]
  }
 ],
 "metadata": {
  "language_info": {
   "name": "python"
  }
 },
 "nbformat": 4,
 "nbformat_minor": 2
}
