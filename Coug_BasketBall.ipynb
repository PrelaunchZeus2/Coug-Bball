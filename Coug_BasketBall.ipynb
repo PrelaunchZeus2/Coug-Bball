{
 "cells": [
  {
   "cell_type": "markdown",
   "metadata": {},
   "source": [
    "#### Setup"
   ]
  },
  {
   "cell_type": "code",
   "execution_count": 1,
   "metadata": {},
   "outputs": [
    {
     "name": "stdout",
     "output_type": "stream",
     "text": [
      "Requirement already satisfied: pandas in ./.venv/lib/python3.11/site-packages (from -r Requirements.txt (line 1)) (2.2.2)\n",
      "Requirement already satisfied: numpy in ./.venv/lib/python3.11/site-packages (from -r Requirements.txt (line 2)) (2.0.0)\n",
      "Requirement already satisfied: matplotlib in ./.venv/lib/python3.11/site-packages (from -r Requirements.txt (line 3)) (3.9.1)\n",
      "Requirement already satisfied: seaborn in ./.venv/lib/python3.11/site-packages (from -r Requirements.txt (line 4)) (0.13.2)\n",
      "Requirement already satisfied: python-dateutil>=2.8.2 in ./.venv/lib/python3.11/site-packages (from pandas->-r Requirements.txt (line 1)) (2.9.0.post0)\n",
      "Requirement already satisfied: pytz>=2020.1 in ./.venv/lib/python3.11/site-packages (from pandas->-r Requirements.txt (line 1)) (2024.1)\n",
      "Requirement already satisfied: tzdata>=2022.7 in ./.venv/lib/python3.11/site-packages (from pandas->-r Requirements.txt (line 1)) (2024.1)\n",
      "Requirement already satisfied: contourpy>=1.0.1 in ./.venv/lib/python3.11/site-packages (from matplotlib->-r Requirements.txt (line 3)) (1.2.1)\n",
      "Requirement already satisfied: cycler>=0.10 in ./.venv/lib/python3.11/site-packages (from matplotlib->-r Requirements.txt (line 3)) (0.12.1)\n",
      "Requirement already satisfied: fonttools>=4.22.0 in ./.venv/lib/python3.11/site-packages (from matplotlib->-r Requirements.txt (line 3)) (4.53.1)\n",
      "Requirement already satisfied: kiwisolver>=1.3.1 in ./.venv/lib/python3.11/site-packages (from matplotlib->-r Requirements.txt (line 3)) (1.4.5)\n",
      "Requirement already satisfied: packaging>=20.0 in ./.venv/lib/python3.11/site-packages (from matplotlib->-r Requirements.txt (line 3)) (24.1)\n",
      "Requirement already satisfied: pillow>=8 in ./.venv/lib/python3.11/site-packages (from matplotlib->-r Requirements.txt (line 3)) (10.4.0)\n",
      "Requirement already satisfied: pyparsing>=2.3.1 in ./.venv/lib/python3.11/site-packages (from matplotlib->-r Requirements.txt (line 3)) (3.1.2)\n",
      "Requirement already satisfied: six>=1.5 in ./.venv/lib/python3.11/site-packages (from python-dateutil>=2.8.2->pandas->-r Requirements.txt (line 1)) (1.16.0)\n",
      "Note: you may need to restart the kernel to use updated packages.\n"
     ]
    }
   ],
   "source": [
    "%pip install -r  Requirements.txt"
   ]
  },
  {
   "cell_type": "markdown",
   "metadata": {
    "vscode": {
     "languageId": "plaintext"
    }
   },
   "source": [
    "# Cougar Basketball Visualization Project\n",
    "## By John Salmon\n",
    "\n",
    "### The information for this project was acquired from sports reference. The data set and more information about it can be found [here](https://www.sports-reference.com/cbb/schools/washington-state/men/2024.html).\n",
    "\n",
    "The goal of this project is to create interesting and insightful visualization about the WSU Men's basketball team's 2023-2024 season."
   ]
  },
  {
   "cell_type": "markdown",
   "metadata": {},
   "source": [
    "#### Import Data"
   ]
  },
  {
   "cell_type": "code",
   "execution_count": 2,
   "metadata": {},
   "outputs": [
    {
     "data": {
      "text/html": [
       "<div>\n",
       "<style scoped>\n",
       "    .dataframe tbody tr th:only-of-type {\n",
       "        vertical-align: middle;\n",
       "    }\n",
       "\n",
       "    .dataframe tbody tr th {\n",
       "        vertical-align: top;\n",
       "    }\n",
       "\n",
       "    .dataframe thead th {\n",
       "        text-align: right;\n",
       "    }\n",
       "</style>\n",
       "<table border=\"1\" class=\"dataframe\">\n",
       "  <thead>\n",
       "    <tr style=\"text-align: right;\">\n",
       "      <th></th>\n",
       "      <th>Date</th>\n",
       "      <th>Unnamed: 2</th>\n",
       "      <th>Opp</th>\n",
       "      <th>W/L</th>\n",
       "      <th>Tm</th>\n",
       "      <th>Opp.1</th>\n",
       "      <th>FG</th>\n",
       "      <th>FGA</th>\n",
       "      <th>FG%</th>\n",
       "      <th>3P</th>\n",
       "      <th>...</th>\n",
       "      <th>OPP_FT</th>\n",
       "      <th>OPP_FTA</th>\n",
       "      <th>OPP_FT%</th>\n",
       "      <th>OPP_ORB</th>\n",
       "      <th>OPP_TRB</th>\n",
       "      <th>OPP_AST</th>\n",
       "      <th>OPP_STL</th>\n",
       "      <th>OPP_BLK</th>\n",
       "      <th>OPP_TOV</th>\n",
       "      <th>OPP_PF</th>\n",
       "    </tr>\n",
       "    <tr>\n",
       "      <th>G</th>\n",
       "      <th></th>\n",
       "      <th></th>\n",
       "      <th></th>\n",
       "      <th></th>\n",
       "      <th></th>\n",
       "      <th></th>\n",
       "      <th></th>\n",
       "      <th></th>\n",
       "      <th></th>\n",
       "      <th></th>\n",
       "      <th></th>\n",
       "      <th></th>\n",
       "      <th></th>\n",
       "      <th></th>\n",
       "      <th></th>\n",
       "      <th></th>\n",
       "      <th></th>\n",
       "      <th></th>\n",
       "      <th></th>\n",
       "      <th></th>\n",
       "      <th></th>\n",
       "    </tr>\n",
       "  </thead>\n",
       "  <tbody>\n",
       "    <tr>\n",
       "      <th>1</th>\n",
       "      <td>2023-11-06</td>\n",
       "      <td>NaN</td>\n",
       "      <td>Idaho</td>\n",
       "      <td>W</td>\n",
       "      <td>84</td>\n",
       "      <td>59</td>\n",
       "      <td>31</td>\n",
       "      <td>57</td>\n",
       "      <td>0.544</td>\n",
       "      <td>7</td>\n",
       "      <td>...</td>\n",
       "      <td>18</td>\n",
       "      <td>25</td>\n",
       "      <td>0.720</td>\n",
       "      <td>5</td>\n",
       "      <td>23</td>\n",
       "      <td>8</td>\n",
       "      <td>6</td>\n",
       "      <td>4</td>\n",
       "      <td>11</td>\n",
       "      <td>23</td>\n",
       "    </tr>\n",
       "    <tr>\n",
       "      <th>2</th>\n",
       "      <td>2023-11-10</td>\n",
       "      <td>NaN</td>\n",
       "      <td>Prairie View</td>\n",
       "      <td>W</td>\n",
       "      <td>83</td>\n",
       "      <td>65</td>\n",
       "      <td>30</td>\n",
       "      <td>56</td>\n",
       "      <td>0.536</td>\n",
       "      <td>4</td>\n",
       "      <td>...</td>\n",
       "      <td>15</td>\n",
       "      <td>21</td>\n",
       "      <td>0.714</td>\n",
       "      <td>8</td>\n",
       "      <td>23</td>\n",
       "      <td>8</td>\n",
       "      <td>6</td>\n",
       "      <td>1</td>\n",
       "      <td>10</td>\n",
       "      <td>21</td>\n",
       "    </tr>\n",
       "    <tr>\n",
       "      <th>3</th>\n",
       "      <td>2023-11-18</td>\n",
       "      <td>N</td>\n",
       "      <td>Mississippi State</td>\n",
       "      <td>L</td>\n",
       "      <td>64</td>\n",
       "      <td>76</td>\n",
       "      <td>24</td>\n",
       "      <td>59</td>\n",
       "      <td>0.407</td>\n",
       "      <td>7</td>\n",
       "      <td>...</td>\n",
       "      <td>21</td>\n",
       "      <td>25</td>\n",
       "      <td>0.840</td>\n",
       "      <td>5</td>\n",
       "      <td>33</td>\n",
       "      <td>7</td>\n",
       "      <td>10</td>\n",
       "      <td>2</td>\n",
       "      <td>8</td>\n",
       "      <td>13</td>\n",
       "    </tr>\n",
       "    <tr>\n",
       "      <th>4</th>\n",
       "      <td>2023-11-19</td>\n",
       "      <td>N</td>\n",
       "      <td>Rhode Island</td>\n",
       "      <td>W</td>\n",
       "      <td>78</td>\n",
       "      <td>57</td>\n",
       "      <td>33</td>\n",
       "      <td>64</td>\n",
       "      <td>0.516</td>\n",
       "      <td>3</td>\n",
       "      <td>...</td>\n",
       "      <td>10</td>\n",
       "      <td>12</td>\n",
       "      <td>0.833</td>\n",
       "      <td>4</td>\n",
       "      <td>23</td>\n",
       "      <td>9</td>\n",
       "      <td>1</td>\n",
       "      <td>2</td>\n",
       "      <td>11</td>\n",
       "      <td>18</td>\n",
       "    </tr>\n",
       "    <tr>\n",
       "      <th>5</th>\n",
       "      <td>2023-11-24</td>\n",
       "      <td>NaN</td>\n",
       "      <td>Utah Tech</td>\n",
       "      <td>W</td>\n",
       "      <td>93</td>\n",
       "      <td>53</td>\n",
       "      <td>32</td>\n",
       "      <td>57</td>\n",
       "      <td>0.561</td>\n",
       "      <td>15</td>\n",
       "      <td>...</td>\n",
       "      <td>12</td>\n",
       "      <td>17</td>\n",
       "      <td>0.706</td>\n",
       "      <td>9</td>\n",
       "      <td>27</td>\n",
       "      <td>7</td>\n",
       "      <td>5</td>\n",
       "      <td>4</td>\n",
       "      <td>16</td>\n",
       "      <td>20</td>\n",
       "    </tr>\n",
       "  </tbody>\n",
       "</table>\n",
       "<p>5 rows × 39 columns</p>\n",
       "</div>"
      ],
      "text/plain": [
       "         Date Unnamed: 2                Opp W/L  Tm  Opp.1  FG  FGA    FG%  \\\n",
       "G                                                                            \n",
       "1  2023-11-06        NaN              Idaho   W  84     59  31   57  0.544   \n",
       "2  2023-11-10        NaN       Prairie View   W  83     65  30   56  0.536   \n",
       "3  2023-11-18          N  Mississippi State   L  64     76  24   59  0.407   \n",
       "4  2023-11-19          N       Rhode Island   W  78     57  33   64  0.516   \n",
       "5  2023-11-24        NaN          Utah Tech   W  93     53  32   57  0.561   \n",
       "\n",
       "   3P  ...  OPP_FT  OPP_FTA  OPP_FT%  OPP_ORB  OPP_TRB  OPP_AST  OPP_STL  \\\n",
       "G      ...                                                                 \n",
       "1   7  ...      18       25    0.720        5       23        8        6   \n",
       "2   4  ...      15       21    0.714        8       23        8        6   \n",
       "3   7  ...      21       25    0.840        5       33        7       10   \n",
       "4   3  ...      10       12    0.833        4       23        9        1   \n",
       "5  15  ...      12       17    0.706        9       27        7        5   \n",
       "\n",
       "   OPP_BLK  OPP_TOV  OPP_PF  \n",
       "G                            \n",
       "1        4       11      23  \n",
       "2        1       10      21  \n",
       "3        2        8      13  \n",
       "4        2       11      18  \n",
       "5        4       16      20  \n",
       "\n",
       "[5 rows x 39 columns]"
      ]
     },
     "execution_count": 2,
     "metadata": {},
     "output_type": "execute_result"
    }
   ],
   "source": [
    "import pandas as pd\n",
    "gamelog = pd.read_csv('CougarBBallStats/gamelog.csv', index_col = 'G')\n",
    "gamelog.head()"
   ]
  },
  {
   "cell_type": "markdown",
   "metadata": {},
   "source": [
    "#### Cleaning"
   ]
  },
  {
   "cell_type": "code",
   "execution_count": 3,
   "metadata": {},
   "outputs": [
    {
     "name": "stdout",
     "output_type": "stream",
     "text": [
      "Index(['Date', 'Unnamed: 2', 'Opp', 'W/L', 'Tm', 'Opp.1', 'FG', 'FGA', 'FG%',\n",
      "       '3P', '3PA', '3P%', 'FT', 'FTA', 'FT%', 'ORB', 'TRB', 'AST', 'STL',\n",
      "       'BLK', 'TOV', 'PF', 'Unnamed: 23', 'OPP_FG', 'OPP_FGA', 'OPP_FG%',\n",
      "       'OPP_3P', 'OPP_3PA', 'OPP_3P%', 'OPP_FT', 'OPP_FTA', 'OPP_FT%',\n",
      "       'OPP_ORB', 'OPP_TRB', 'OPP_AST', 'OPP_STL', 'OPP_BLK', 'OPP_TOV',\n",
      "       'OPP_PF'],\n",
      "      dtype='object')\n"
     ]
    }
   ],
   "source": [
    "print(gamelog.columns)"
   ]
  },
  {
   "cell_type": "code",
   "execution_count": 4,
   "metadata": {},
   "outputs": [],
   "source": [
    "#Fix Missing Column Names\n",
    "gamelog.rename(columns = {'Unnamed: 2': 'Location'}, inplace = True)\n",
    "gamelog.drop(columns = ['Unnamed: 23'], inplace = True) #Column is empty and used for spacing\n",
    "\n",
    "#fix nan values in Location column\n",
    "gamelog['Location'] = gamelog['Location'].fillna('H')"
   ]
  },
  {
   "cell_type": "code",
   "execution_count": null,
   "metadata": {},
   "outputs": [],
   "source": []
  },
  {
   "cell_type": "code",
   "execution_count": 5,
   "metadata": {},
   "outputs": [
    {
     "name": "stdout",
     "output_type": "stream",
     "text": [
      "Null Count:  Date        0\n",
      "Location    0\n",
      "Opp         0\n",
      "W/L         0\n",
      "Tm          0\n",
      "Opp.1       0\n",
      "FG          0\n",
      "FGA         0\n",
      "FG%         0\n",
      "3P          0\n",
      "3PA         0\n",
      "3P%         0\n",
      "FT          0\n",
      "FTA         0\n",
      "FT%         0\n",
      "ORB         0\n",
      "TRB         0\n",
      "AST         0\n",
      "STL         0\n",
      "BLK         0\n",
      "TOV         0\n",
      "PF          0\n",
      "OPP_FG      0\n",
      "OPP_FGA     0\n",
      "OPP_FG%     0\n",
      "OPP_3P      0\n",
      "OPP_3PA     0\n",
      "OPP_3P%     0\n",
      "OPP_FT      0\n",
      "OPP_FTA     0\n",
      "OPP_FT%     0\n",
      "OPP_ORB     0\n",
      "OPP_TRB     0\n",
      "OPP_AST     0\n",
      "OPP_STL     0\n",
      "OPP_BLK     0\n",
      "OPP_TOV     0\n",
      "OPP_PF      0\n",
      "dtype: int64\n",
      "NA Count:  Date        0\n",
      "Location    0\n",
      "Opp         0\n",
      "W/L         0\n",
      "Tm          0\n",
      "Opp.1       0\n",
      "FG          0\n",
      "FGA         0\n",
      "FG%         0\n",
      "3P          0\n",
      "3PA         0\n",
      "3P%         0\n",
      "FT          0\n",
      "FTA         0\n",
      "FT%         0\n",
      "ORB         0\n",
      "TRB         0\n",
      "AST         0\n",
      "STL         0\n",
      "BLK         0\n",
      "TOV         0\n",
      "PF          0\n",
      "OPP_FG      0\n",
      "OPP_FGA     0\n",
      "OPP_FG%     0\n",
      "OPP_3P      0\n",
      "OPP_3PA     0\n",
      "OPP_3P%     0\n",
      "OPP_FT      0\n",
      "OPP_FTA     0\n",
      "OPP_FT%     0\n",
      "OPP_ORB     0\n",
      "OPP_TRB     0\n",
      "OPP_AST     0\n",
      "OPP_STL     0\n",
      "OPP_BLK     0\n",
      "OPP_TOV     0\n",
      "OPP_PF      0\n",
      "dtype: int64\n"
     ]
    }
   ],
   "source": [
    "#Column Wise null and na counts\n",
    "print('Null Count: ', gamelog.isnull().sum())\n",
    "print('NA Count: ', gamelog.isna().sum())"
   ]
  },
  {
   "cell_type": "code",
   "execution_count": 6,
   "metadata": {},
   "outputs": [
    {
     "name": "stdout",
     "output_type": "stream",
     "text": [
      "Data Types:  Date         object\n",
      "Location     object\n",
      "Opp          object\n",
      "W/L          object\n",
      "Tm            int64\n",
      "Opp.1         int64\n",
      "FG            int64\n",
      "FGA           int64\n",
      "FG%         float64\n",
      "3P            int64\n",
      "3PA           int64\n",
      "3P%         float64\n",
      "FT            int64\n",
      "FTA           int64\n",
      "FT%         float64\n",
      "ORB           int64\n",
      "TRB           int64\n",
      "AST           int64\n",
      "STL           int64\n",
      "BLK           int64\n",
      "TOV           int64\n",
      "PF            int64\n",
      "OPP_FG        int64\n",
      "OPP_FGA       int64\n",
      "OPP_FG%     float64\n",
      "OPP_3P        int64\n",
      "OPP_3PA       int64\n",
      "OPP_3P%     float64\n",
      "OPP_FT        int64\n",
      "OPP_FTA       int64\n",
      "OPP_FT%     float64\n",
      "OPP_ORB       int64\n",
      "OPP_TRB       int64\n",
      "OPP_AST       int64\n",
      "OPP_STL       int64\n",
      "OPP_BLK       int64\n",
      "OPP_TOV       int64\n",
      "OPP_PF        int64\n",
      "dtype: object\n"
     ]
    }
   ],
   "source": [
    "#Column wise data type correction\n",
    "print('Data Types: ', gamelog.dtypes)\n",
    "\n",
    "cols_to_convert = ['']"
   ]
  },
  {
   "cell_type": "markdown",
   "metadata": {},
   "source": [
    "#### Feature Engineering"
   ]
  },
  {
   "cell_type": "code",
   "execution_count": 7,
   "metadata": {},
   "outputs": [],
   "source": [
    "#Score Difference Column\n",
    "gamelog['Victory Margin'] = gamelog['Tm'] - gamelog['Opp.1']\n",
    "\n",
    "#add team column for later\n",
    "gamelog['Team'] = 'WSU'"
   ]
  },
  {
   "cell_type": "markdown",
   "metadata": {},
   "source": [
    "#### Data Exploration"
   ]
  },
  {
   "cell_type": "code",
   "execution_count": 8,
   "metadata": {},
   "outputs": [],
   "source": [
    "import matplotlib.pyplot as plt\n",
    "import seaborn as sns\n",
    "import numpy as np\n",
    "%matplotlib inline"
   ]
  },
  {
   "cell_type": "code",
   "execution_count": 9,
   "metadata": {},
   "outputs": [
    {
     "data": {
      "text/plain": [
       "<function matplotlib.pyplot.show(close=None, block=None)>"
      ]
     },
     "execution_count": 9,
     "metadata": {},
     "output_type": "execute_result"
    }
   ],
   "source": [
    "#Correlation Matrix\n",
    "corr = gamelog.select_dtypes(include = ['int64', 'float64']).corr()\n",
    "\n",
    "plt.figure(figsize = (30, 30))\n",
    "sns.heatmap(corr,\n",
    "            annot = True,\n",
    "            cmap = 'Spectral',\n",
    "            vmin = -1, vmax = 1,\n",
    "            square = True,\n",
    "            linewidths = 0.5)\n",
    "plt.title('Correlation Matrix', fontsize = 20)\n",
    "plt.show"
   ]
  },
  {
   "cell_type": "markdown",
   "metadata": {},
   "source": [
    "This correlation matrix looks really cool and tells us some interesting things, but its important to remember that these correlations do not mean that these factors are having an effect on others, instead it means there is a possible link between the two."
   ]
  },
  {
   "cell_type": "code",
   "execution_count": null,
   "metadata": {},
   "outputs": [],
   "source": [
    "#distplot of victory margin\n",
    "sns.distplot(gamelog['Victory Margin'], color = 'crimson', bins = 35, hist_kws = {'alpha': 0.5})"
   ]
  },
  {
   "cell_type": "code",
   "execution_count": null,
   "metadata": {},
   "outputs": [],
   "source": [
    "gamelog_nums = gamelog.select_dtypes(include = ['float64', 'int64'])\n",
    "gamelog_nums.hist(figsize = (16, 20), bins = 35, xlabelsize = 8, ylabelsize = 8, color = 'red')"
   ]
  },
  {
   "cell_type": "markdown",
   "metadata": {},
   "source": [
    "#### Import Data From Other Teams\n",
    "\n",
    "Next lets import the data from other college basketball teams for reference.\n"
   ]
  },
  {
   "cell_type": "code",
   "execution_count": null,
   "metadata": {},
   "outputs": [],
   "source": [
    "#Function for cleaning and adding features\n",
    "def clean_and_add_columns(gamelog):\n",
    "    '''This function takes a dataframe and performs the previous cleaning\n",
    "    steps outlined in this noteboom'''\n",
    "    \n",
    "    #clean\n",
    "    gamelog.rename(columns = {'Unnamed: 2': 'Location'}, inplace = True)\n",
    "    gamelog.drop(columns = ['Unnamed: 23'], inplace = True) #Column is empty and used for spacing\n",
    "\n",
    "    #fix nan values in Location column\n",
    "    gamelog['Location'] = gamelog['Location'].fillna('H')\n",
    "    \n",
    "    #add columns\n",
    "    gamelog['Victory Margin'] = gamelog['Tm'] - gamelog['Opp.1']\n",
    "    "
   ]
  },
  {
   "cell_type": "code",
   "execution_count": null,
   "metadata": {},
   "outputs": [],
   "source": [
    "#Import and Clean Data From other teams\n",
    "kansas = pd.read_csv('Kansas_Gamelog.csv', index_col = 'G') #team with most basketball games played in their history (cougs are 2nd)\n",
    "uconn = pd.read_csv('UConn_Gamelog.csv', index_col = 'G') #winner of the 2024 Men's NCAA tournament\n",
    "uw = pd.read_csv('UW_gamelog.csv', index_col = 'G') #as a former husky (grad 2023) they put the 'dog' in 'dogshit' (sorry dad I'm a cougar now)\n",
    "\n",
    "new_data = [kansas, uconn, uw]\n",
    "for df in new_data:\n",
    "    clean_and_add_columns(df)\n",
    "    \n",
    "kansas['Team'] = 'Kansas'\n",
    "uconn['Team'] = 'UConn'\n",
    "uw['Team'] = 'UW'"
   ]
  },
  {
   "cell_type": "markdown",
   "metadata": {},
   "source": [
    "#### Compare Teams' Stats"
   ]
  },
  {
   "cell_type": "code",
   "execution_count": null,
   "metadata": {},
   "outputs": [],
   "source": [
    "all_data = pd.concat([gamelog, kansas, uconn, uw], axis = 0)\n",
    "g = sns.FacetGrid(all_data, col='Team')\n",
    "g.map(sns.histplot, 'Victory Margin')  # Replace 'column_of_interest' with the column you want to compare\n",
    "plt.show()"
   ]
  },
  {
   "cell_type": "code",
   "execution_count": null,
   "metadata": {},
   "outputs": [],
   "source": [
    "#swarm plot\n",
    "plt.figure(figsize=(10, 6))\n",
    "sns.swarmplot(x = 'Team', y = 'Victory Margin', data = all_data)\n",
    "plt.title('Comparison of Margin of Victory Across Teams')\n",
    "plt.show()"
   ]
  },
  {
   "cell_type": "code",
   "execution_count": null,
   "metadata": {},
   "outputs": [],
   "source": [
    "#Create DF of means\n",
    "all_numeric = all_data.select_dtypes(include = ['float64', 'int64'])\n",
    "all_numeric['Team'] = all_data['Team']\n",
    "summary_df = all_numeric.groupby('Team').mean().reset_index()\n",
    "\n",
    "# Determine the grid size for subplots (wrap after 2 charts)\n",
    "num_teams = len(summary_df)\n",
    "num_cols = 2\n",
    "num_rows = int(np.ceil(num_teams / num_cols))\n",
    "\n",
    "# Set up the subplot grid\n",
    "fig, axes = plt.subplots(num_rows, num_cols, figsize = (15, 5 * num_rows), sharey = True)\n",
    "axes = axes.flatten() \n",
    "\n",
    "# Colors for each team\n",
    "colors = ['blue', 'grey', 'purple', 'crimson']\n",
    "\n",
    "# Iterate through each team and create a bar plot\n",
    "for i, (index, row) in enumerate(summary_df.iterrows()):\n",
    "    axes[i].bar(summary_df.columns[1:], row[1:], color=colors[i])\n",
    "    axes[i].set_title(row['Team'])\n",
    "    axes[i].set_ylim(0, max(summary_df.max()[1:]) + 5)  # Adjust y-axis limit for consistency\n",
    "    axes[i].set_xticklabels(summary_df.columns[1:], rotation = 90)\n",
    "\n",
    "# Set a common y-axis label\n",
    "fig.text(0.04, 0.5, 'Values', va='center', rotation='vertical')\n",
    "plt.tight_layout()\n",
    "plt.show()"
   ]
  }
 ],
 "metadata": {
  "kernelspec": {
   "display_name": ".venv",
   "language": "python",
   "name": "python3"
  },
  "language_info": {
   "codemirror_mode": {
    "name": "ipython",
    "version": 3
   },
   "file_extension": ".py",
   "mimetype": "text/x-python",
   "name": "python",
   "nbconvert_exporter": "python",
   "pygments_lexer": "ipython3",
   "version": "3.11.9"
  }
 },
 "nbformat": 4,
 "nbformat_minor": 2
}
