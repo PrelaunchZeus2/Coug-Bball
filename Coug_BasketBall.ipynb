{
 "cells": [
  {
   "cell_type": "markdown",
   "metadata": {},
   "source": [
    "#### Setup"
   ]
  },
  {
   "cell_type": "code",
   "execution_count": null,
   "metadata": {},
   "outputs": [],
   "source": [
    "%pip install -r  Requirements.txt"
   ]
  },
  {
   "cell_type": "markdown",
   "metadata": {
    "vscode": {
     "languageId": "plaintext"
    }
   },
   "source": [
    "# Cougar Basketball Visualization Project\n",
    "## By John Salmon\n",
    "\n",
    "### The information for this project was acquired from sports reference. The data set and more information about it can be found [here](https://www.sports-reference.com/cbb/schools/washington-state/men/2024.html).\n",
    "\n",
    "The goal of this project is to create interesting and insightful visualization about the WSU Men's basketball team's 2023-2024 season."
   ]
  },
  {
   "cell_type": "markdown",
   "metadata": {},
   "source": [
    "#### Import Data"
   ]
  },
  {
   "cell_type": "code",
   "execution_count": null,
   "metadata": {},
   "outputs": [],
   "source": [
    "import pandas as pd\n",
    "gamelog = pd.read_csv('CougarBBallStats/gamelog.csv', index_col = 'G')\n",
    "gamelog.head()"
   ]
  },
  {
   "cell_type": "markdown",
   "metadata": {},
   "source": [
    "#### Cleaning"
   ]
  },
  {
   "cell_type": "code",
   "execution_count": null,
   "metadata": {},
   "outputs": [],
   "source": [
    "print(gamelog.columns)"
   ]
  },
  {
   "cell_type": "code",
   "execution_count": null,
   "metadata": {},
   "outputs": [],
   "source": [
    "#Fix Missing Column Names\n",
    "gamelog.rename(columns = {'Unnamed: 2': 'Location'}, inplace = True)\n",
    "gamelog.drop(columns = ['Unnamed: 23'], inplace = True) #Column is empty and used for spacing\n",
    "\n",
    "#fix nan values in Location column\n",
    "gamelog['Location'] = gamelog['Location'].fillna('H')"
   ]
  },
  {
   "cell_type": "code",
   "execution_count": null,
   "metadata": {},
   "outputs": [],
   "source": []
  },
  {
   "cell_type": "code",
   "execution_count": null,
   "metadata": {},
   "outputs": [],
   "source": [
    "#Column Wise null and na counts\n",
    "print('Null Count: ', gamelog.isnull().sum())\n",
    "print('NA Count: ', gamelog.isna().sum())"
   ]
  },
  {
   "cell_type": "code",
   "execution_count": null,
   "metadata": {},
   "outputs": [],
   "source": [
    "#Column wise data type correction\n",
    "print('Data Types: ', gamelog.dtypes)\n",
    "\n",
    "cols_to_convert = ['']"
   ]
  },
  {
   "cell_type": "markdown",
   "metadata": {},
   "source": [
    "#### Feature Engineering"
   ]
  },
  {
   "cell_type": "code",
   "execution_count": null,
   "metadata": {},
   "outputs": [],
   "source": [
    "#Score Difference Column\n",
    "gamelog['Victory Margin'] = gamelog['Tm'] - gamelog['Opp.1']"
   ]
  },
  {
   "cell_type": "markdown",
   "metadata": {},
   "source": [
    "#### Data Exploration"
   ]
  },
  {
   "cell_type": "code",
   "execution_count": null,
   "metadata": {},
   "outputs": [],
   "source": [
    "import matplotlib.pyplot as plt\n",
    "import seaborn as sns\n",
    "%matplotlib inline"
   ]
  },
  {
   "cell_type": "code",
   "execution_count": null,
   "metadata": {},
   "outputs": [],
   "source": [
    "#Correlation Matrix\n",
    "corr = gamelog.select_dtypes(include = ['int64', 'float64']).corr()\n",
    "\n",
    "plt.figure(figsize = (30, 30))\n",
    "sns.heatmap(corr,\n",
    "            annot = True,\n",
    "            cmap = 'Spectral',\n",
    "            vmin = -1, vmax = 1,\n",
    "            square = True,\n",
    "            linewidths = 0.5)\n",
    "plt.title('Correlation Matrix', fontsize = 20)\n",
    "plt.show"
   ]
  },
  {
   "cell_type": "markdown",
   "metadata": {},
   "source": [
    "This correlation matrix looks really cool and tells us some interesting things, but its important to remember that these correlations do not mean that these factors are having an effect on others, instead it means there is a possible link between the two."
   ]
  },
  {
   "cell_type": "code",
   "execution_count": null,
   "metadata": {},
   "outputs": [],
   "source": [
    "#distplot of victory margin\n",
    "sns.distplot(gamelog['Victory Margin'], color = 'crimson', bins = 35, hist_kws = {'alpha': 0.5})"
   ]
  },
  {
   "cell_type": "code",
   "execution_count": null,
   "metadata": {},
   "outputs": [],
   "source": [
    "gamelog_nums = gamelog.select_dtypes(include = ['float64', 'int64'])\n",
    "gamelog_nums.hist(figsize = (16, 20), bins = 35, xlabelsize = 8, ylabelsize = 8, color = 'red')"
   ]
  },
  {
   "cell_type": "markdown",
   "metadata": {},
   "source": [
    "#### Import Data From Other Teams\n",
    "\n",
    "Next lets import the data from other college basketball teams for reference.\n"
   ]
  },
  {
   "cell_type": "code",
   "execution_count": null,
   "metadata": {},
   "outputs": [],
   "source": [
    "#Function for cleaning and adding features\n",
    "def clean_and_add_columns(gamelog):\n",
    "    '''This function takes a dataframe and performs the previous cleaning\n",
    "    steps outlined in this noteboom'''\n",
    "    \n",
    "    #clean\n",
    "    gamelog.rename(columns = {'Unnamed: 2': 'Location'}, inplace = True)\n",
    "    gamelog.drop(columns = ['Unnamed: 23'], inplace = True) #Column is empty and used for spacing\n",
    "\n",
    "    #fix nan values in Location column\n",
    "    gamelog['Location'] = gamelog['Location'].fillna('H')\n",
    "    \n",
    "    #add columns\n",
    "    gamelog['Victory Margin'] = gamelog['Tm'] - gamelog['Opp.1']\n",
    "    "
   ]
  },
  {
   "cell_type": "code",
   "execution_count": null,
   "metadata": {},
   "outputs": [],
   "source": [
    "#Import and Clean Data From other teams\n",
    "kansas = pd.read_csv('Kansas_Gamelog.csv', index_col = 'G') #team with most basketball games played in their history (cougs are 2nd)\n",
    "uconn = pd.read_csv('UConn_Gamelog.csv', index_col = 'G') #winner of the 2024 Men's NCAA tournament\n",
    "uw = pd.read_csv('UW_gamelog.csv', index_col = 'G') #as a former husky (grad 2023) they put the 'dog' in 'dogshit' (sorry dad I'm a cougar now)\n",
    "\n",
    "new_data = [kansas, uconn, uw]\n",
    "for df in new_data:\n",
    "    clean_and_add_columns(df)"
   ]
  }
 ],
 "metadata": {
  "kernelspec": {
   "display_name": ".venv",
   "language": "python",
   "name": "python3"
  },
  "language_info": {
   "codemirror_mode": {
    "name": "ipython",
    "version": 3
   },
   "file_extension": ".py",
   "mimetype": "text/x-python",
   "name": "python",
   "nbconvert_exporter": "python",
   "pygments_lexer": "ipython3",
   "version": "3.11.9"
  }
 },
 "nbformat": 4,
 "nbformat_minor": 2
}
